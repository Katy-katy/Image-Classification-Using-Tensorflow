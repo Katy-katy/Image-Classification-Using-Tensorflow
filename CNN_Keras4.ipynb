{
 "cells": [
  {
   "cell_type": "markdown",
   "metadata": {},
   "source": [
    "# Intel & MobileODT Cervical Cancer Screening\n",
    "\n",
    "I am working on this project for a Kaggle competition:\n",
    "\n",
    "https://www.kaggle.com/c/intel-mobileodt-cervical-cancer-screening\n",
    "\n",
    "My goal is accurately identifie a woman’s cervix type (type 1, type 2 or type 3) based on the image. \n",
    "I have 250 images for type 1, 781 images for type 2, and 450 images for type 3 at all.\n",
    "\n",
    "I created:\n",
    "\n",
    "**validation set:** 10% of images of every type.\n",
    "\n",
    "**training set:** one copy of every image of type 2, 2 copy of every image of type 3, and 3 copy of every image of type 1. I am going to use ImageDataGenerator() to transfor the images.  \n",
    "\n",
    "During the training I realized that when we use CNN, it is very important for classes to be balanced. Otherwise, the algorithm tend to assign the most common class to every image. "
   ]
  },
  {
   "cell_type": "markdown",
   "metadata": {},
   "source": [
    "Using preprocessing.py I saved all labels and all images with ressolution 64 by 64 in training_64_dublicated_data.pickle and validation_64.pickle."
   ]
  },
  {
   "cell_type": "code",
   "execution_count": 1,
   "metadata": {
    "collapsed": true
   },
   "outputs": [],
   "source": [
    "import numpy as np\n",
    "import matplotlib.pyplot as plt\n",
    "%matplotlib inline\n",
    "import seaborn as sns\n",
    "import pickle\n",
    "import pandas as pd\n",
    "\n",
    "from sklearn.model_selection import train_test_split\n",
    "from sklearn.metrics import confusion_matrix\n",
    "from sklearn.preprocessing import LabelEncoder"
   ]
  },
  {
   "cell_type": "code",
   "execution_count": 54,
   "metadata": {},
   "outputs": [
    {
     "name": "stderr",
     "output_type": "stream",
     "text": [
      "Using TensorFlow backend.\n"
     ]
    }
   ],
   "source": [
    "from keras.utils.np_utils import to_categorical # convert to one-hot-encoding\n",
    "from keras.models import Sequential\n",
    "from keras.layers import Dense, Dropout, Flatten, Conv2D, MaxPool2D\n",
    "from keras.optimizers import RMSprop\n",
    "from keras.preprocessing.image import ImageDataGenerator\n",
    "from keras.callbacks import ReduceLROnPlateau"
   ]
  },
  {
   "cell_type": "code",
   "execution_count": 282,
   "metadata": {},
   "outputs": [],
   "source": [
    "with open('training_64_dublicated_data.pickle', 'rb') as fo:\n",
    "        data = pickle.load(fo, encoding='bytes')"
   ]
  },
  {
   "cell_type": "code",
   "execution_count": 283,
   "metadata": {
    "collapsed": true
   },
   "outputs": [],
   "source": [
    "with open('validation_64.pickle', 'rb') as fo:\n",
    "        validation_data = pickle.load(fo, encoding='bytes')"
   ]
  },
  {
   "cell_type": "code",
   "execution_count": 284,
   "metadata": {
    "collapsed": true
   },
   "outputs": [],
   "source": [
    "x = data[b'data']\n",
    "x = np.array(x)\n",
    "x = x.reshape(-1,64,64,3)\n",
    "\n",
    "labels = data[b'labels']"
   ]
  },
  {
   "cell_type": "code",
   "execution_count": 285,
   "metadata": {},
   "outputs": [
    {
     "data": {
      "text/plain": [
       "(2188, 64, 64, 3)"
      ]
     },
     "execution_count": 285,
     "metadata": {},
     "output_type": "execute_result"
    }
   ],
   "source": [
    "x.shape"
   ]
  },
  {
   "cell_type": "code",
   "execution_count": 286,
   "metadata": {
    "collapsed": true
   },
   "outputs": [],
   "source": [
    "labels = data[b'labels']"
   ]
  },
  {
   "cell_type": "code",
   "execution_count": 287,
   "metadata": {},
   "outputs": [],
   "source": [
    "df = pd.DataFrame(data)"
   ]
  },
  {
   "cell_type": "markdown",
   "metadata": {},
   "source": [
    "### Training / testing data"
   ]
  },
  {
   "cell_type": "code",
   "execution_count": 288,
   "metadata": {},
   "outputs": [
    {
     "data": {
      "text/plain": [
       "b'Type_3'    810\n",
       "b'Type_2'    703\n",
       "b'Type_1'    675\n",
       "Name: b'labels', dtype: int64"
      ]
     },
     "execution_count": 288,
     "metadata": {},
     "output_type": "execute_result"
    },
    {
     "data": {
      "image/png": "[encoded data removed]",
      "text/plain": [
       "<matplotlib.figure.Figure at 0x1c323b7160>"
      ]
     },
     "metadata": {},
     "output_type": "display_data"
    }
   ],
   "source": [
    "g = sns.countplot(labels)\n",
    "df[b'labels'].value_counts()"
   ]
  },
  {
   "cell_type": "markdown",
   "metadata": {},
   "source": [
    "Our classes are balanced now."
   ]
  },
  {
   "cell_type": "code",
   "execution_count": 289,
   "metadata": {},
   "outputs": [
    {
     "data": {
      "text/plain": [
       "(148, 64, 64, 3)"
      ]
     },
     "execution_count": 289,
     "metadata": {},
     "output_type": "execute_result"
    }
   ],
   "source": [
    "x_val = validation_data[b'data']\n",
    "x_val = np.array(x_val)\n",
    "x_val = x_val.reshape(-1,64,64,3)\n",
    "\n",
    "labels_val = validation_data[b'labels']\n",
    "x_val.shape"
   ]
  },
  {
   "cell_type": "code",
   "execution_count": 290,
   "metadata": {},
   "outputs": [],
   "source": [
    "df_val = pd.DataFrame(validation_data)"
   ]
  },
  {
   "cell_type": "markdown",
   "metadata": {},
   "source": [
    "### Validation Data"
   ]
  },
  {
   "cell_type": "code",
   "execution_count": 291,
   "metadata": {},
   "outputs": [
    {
     "data": {
      "text/plain": [
       "b'Type_2'    78\n",
       "b'Type_3'    45\n",
       "b'Type_1'    25\n",
       "Name: b'labels', dtype: int64"
      ]
     },
     "execution_count": 291,
     "metadata": {},
     "output_type": "execute_result"
    },
    {
     "data": {
      "image/png": "[encoded data removed]",
      "text/plain": [
       "<matplotlib.figure.Figure at 0x1c31f7bc50>"
      ]
     },
     "metadata": {},
     "output_type": "display_data"
    }
   ],
   "source": [
    "g = sns.countplot(labels_val)\n",
    "df_val[b'labels'].value_counts()"
   ]
  },
  {
   "cell_type": "markdown",
   "metadata": {},
   "source": [
    "Our validation set has the same proportion of the images to differen type as all original data. "
   ]
  },
  {
   "cell_type": "markdown",
   "metadata": {},
   "source": [
    "### Training Preparation"
   ]
  },
  {
   "cell_type": "code",
   "execution_count": 292,
   "metadata": {
    "collapsed": true
   },
   "outputs": [],
   "source": [
    "encoder = LabelEncoder()\n",
    "encoder.fit(labels)\n",
    "labels = encoder.transform(labels)"
   ]
  },
  {
   "cell_type": "markdown",
   "metadata": {},
   "source": [
    "Type_1 is \"0\", Type_2 is \"1\", Type_3 is \"2\""
   ]
  },
  {
   "cell_type": "code",
   "execution_count": 293,
   "metadata": {
    "collapsed": true
   },
   "outputs": [],
   "source": [
    "X_train, X_test, Y_train, Y_test = train_test_split(x, labels, test_size = 0.1, random_state=101)"
   ]
  },
  {
   "cell_type": "markdown",
   "metadata": {},
   "source": [
    "Testing set: 219 samples (69 - 76 - 74) for type 1, 2, 3\n",
    "\n",
    "Training set: 1969 samples (606 - 627 - 736)"
   ]
  },
  {
   "cell_type": "code",
   "execution_count": 303,
   "metadata": {},
   "outputs": [
    {
     "data": {
      "text/plain": [
       "736"
      ]
     },
     "execution_count": 303,
     "metadata": {},
     "output_type": "execute_result"
    }
   ],
   "source": [
    "(Y_train == 2).sum() # type 3"
   ]
  },
  {
   "cell_type": "code",
   "execution_count": 308,
   "metadata": {
    "collapsed": true
   },
   "outputs": [],
   "source": [
    "nb_train_samples = len(X_train)\n",
    "nb_validation_samples = len(X_test)"
   ]
  },
  {
   "cell_type": "code",
   "execution_count": 309,
   "metadata": {
    "collapsed": true
   },
   "outputs": [],
   "source": [
    "# Normalize the data\n",
    "X_train = X_train / 255.0\n",
    "X_test = X_test / 255.0"
   ]
  },
  {
   "cell_type": "code",
   "execution_count": 310,
   "metadata": {},
   "outputs": [
    {
     "data": {
      "text/plain": [
       "(1969, 64, 64, 3)"
      ]
     },
     "execution_count": 310,
     "metadata": {},
     "output_type": "execute_result"
    }
   ],
   "source": [
    "X_train.shape"
   ]
  },
  {
   "cell_type": "code",
   "execution_count": 311,
   "metadata": {},
   "outputs": [
    {
     "data": {
      "text/plain": [
       "(219, 64, 64, 3)"
      ]
     },
     "execution_count": 311,
     "metadata": {},
     "output_type": "execute_result"
    }
   ],
   "source": [
    "X_test.shape"
   ]
  },
  {
   "cell_type": "code",
   "execution_count": 312,
   "metadata": {},
   "outputs": [],
   "source": [
    "Y_train = to_categorical(Y_train,num_classes=3)\n",
    "Y_test = to_categorical(Y_test, num_classes=3)"
   ]
  },
  {
   "cell_type": "code",
   "execution_count": 313,
   "metadata": {},
   "outputs": [
    {
     "data": {
      "text/plain": [
       "<matplotlib.image.AxesImage at 0x10937b828>"
      ]
     },
     "execution_count": 313,
     "metadata": {},
     "output_type": "execute_result"
    },
    {
     "data": {
      "image/png": "[encoded data removed]",
      "text/plain": [
       "<matplotlib.figure.Figure at 0x1081e02e8>"
      ]
     },
     "metadata": {},
     "output_type": "display_data"
    }
   ],
   "source": [
    "plt.imshow(X_train[400])"
   ]
  },
  {
   "cell_type": "markdown",
   "metadata": {},
   "source": [
    "An interesting article how to chose the number of filters and layers for CNN:\n",
    "\n",
    "http://www.cognitivescientist.net/papers/AI2014_Chu_Krzyzak.pdf"
   ]
  },
  {
   "cell_type": "code",
   "execution_count": 314,
   "metadata": {},
   "outputs": [],
   "source": [
    "model = Sequential()\n",
    "\n",
    "model.add(Conv2D(filters = 8, kernel_size = (3,3),padding = 'Same', \n",
    "                 activation ='relu', input_shape = (64,64,3)))\n",
    "model.add(MaxPool2D(pool_size=(2,2)))\n",
    "\n",
    "\n",
    "\n",
    "model.add(Conv2D(filters = 16, kernel_size = (3,3),padding = 'Same', \n",
    "                 activation ='relu'))\n",
    "model.add(MaxPool2D(pool_size=(2,2)))\n",
    "\n",
    "model.add(Conv2D(filters = 32, kernel_size = (3,3),padding = 'Same', \n",
    "                 activation ='relu'))\n",
    "model.add(MaxPool2D(pool_size=(2,2)))\n",
    "\n",
    "\n",
    "model.add(Dropout(0.2))\n",
    "\n",
    "\n",
    "model.add(Flatten())\n",
    "model.add(Dense(32, activation='relu'))\n",
    "model.add(Dropout(0.1))\n",
    "model.add(Dense(3, activation = \"sigmoid\"))"
   ]
  },
  {
   "cell_type": "code",
   "execution_count": 255,
   "metadata": {},
   "outputs": [
    {
     "data": {
      "text/plain": [
       "\"\\n[<tf.Tensor 'conv2d_67/Relu:0' shape=(?, 64, 64, 8) dtype=float32>,\\n <tf.Tensor 'max_pooling2d_67/MaxPool:0' shape=(?, 32, 32, 8) dtype=float32>,\\n <tf.Tensor 'conv2d_68/Relu:0' shape=(?, 32, 32, 16) dtype=float32>,\\n <tf.Tensor 'max_pooling2d_68/MaxPool:0' shape=(?, 16, 16, 16) dtype=float32>,\\n <tf.Tensor 'conv2d_69/Relu:0' shape=(?, 16, 16, 32) dtype=float32>,\\n <tf.Tensor 'max_pooling2d_69/MaxPool:0' shape=(?, 8, 8, 32) dtype=float32>,\\n <tf.Tensor 'dropout_45/cond/Merge:0' shape=(?, 8, 8, 32) dtype=float32>,\\n <tf.Tensor 'flatten_13/Reshape:0' shape=(?, ?) dtype=float32>,\\n <tf.Tensor 'dense_45/Relu:0' shape=(?, 32) dtype=float32>,\\n <tf.Tensor 'dropout_46/cond/Merge:0' shape=(?, 32) dtype=float32>,\\n <tf.Tensor 'dense_46/Sigmoid:0' shape=(?, 3) dtype=float32>]\\n\\n\""
      ]
     },
     "execution_count": 255,
     "metadata": {},
     "output_type": "execute_result"
    }
   ],
   "source": [
    "'''\n",
    "[<tf.Tensor 'conv2d_67/Relu:0' shape=(?, 64, 64, 8) dtype=float32>,\n",
    " <tf.Tensor 'max_pooling2d_67/MaxPool:0' shape=(?, 32, 32, 8) dtype=float32>,\n",
    " <tf.Tensor 'conv2d_68/Relu:0' shape=(?, 32, 32, 16) dtype=float32>,\n",
    " <tf.Tensor 'max_pooling2d_68/MaxPool:0' shape=(?, 16, 16, 16) dtype=float32>,\n",
    " <tf.Tensor 'conv2d_69/Relu:0' shape=(?, 16, 16, 32) dtype=float32>,\n",
    " <tf.Tensor 'max_pooling2d_69/MaxPool:0' shape=(?, 8, 8, 32) dtype=float32>,\n",
    " <tf.Tensor 'dropout_45/cond/Merge:0' shape=(?, 8, 8, 32) dtype=float32>,\n",
    " <tf.Tensor 'flatten_13/Reshape:0' shape=(?, ?) dtype=float32>,\n",
    " <tf.Tensor 'dense_45/Relu:0' shape=(?, 32) dtype=float32>,\n",
    " <tf.Tensor 'dropout_46/cond/Merge:0' shape=(?, 32) dtype=float32>,\n",
    " <tf.Tensor 'dense_46/Sigmoid:0' shape=(?, 3) dtype=float32>]\n",
    "\n",
    "'''"
   ]
  },
  {
   "cell_type": "code",
   "execution_count": 315,
   "metadata": {
    "collapsed": true
   },
   "outputs": [],
   "source": [
    "model.compile(loss='categorical_crossentropy',\n",
    "              optimizer='rmsprop',\n",
    "              metrics=['accuracy'])"
   ]
  },
  {
   "cell_type": "code",
   "execution_count": 316,
   "metadata": {
    "collapsed": true
   },
   "outputs": [],
   "source": [
    "datagen = ImageDataGenerator(rotation_range=45,width_shift_range=0.1,height_shift_range=0.1,\n",
    "                             zoom_range=0.3, horizontal_flip=True)\n",
    "datagen.fit(X_train)"
   ]
  },
  {
   "cell_type": "code",
   "execution_count": 317,
   "metadata": {},
   "outputs": [
    {
     "name": "stdout",
     "output_type": "stream",
     "text": [
      "Epoch 1/20\n",
      "123/123 [==============================] - 18s - loss: 1.0623 - acc: 0.4243 - val_loss: 0.9933 - val_acc: 0.5068\n",
      "Epoch 2/20\n",
      "123/123 [==============================] - 15s - loss: 0.9947 - acc: 0.5242 - val_loss: 0.9540 - val_acc: 0.5160\n",
      "Epoch 3/20\n",
      "123/123 [==============================] - 15s - loss: 0.9719 - acc: 0.5397 - val_loss: 0.9450 - val_acc: 0.5205\n",
      "Epoch 4/20\n",
      "123/123 [==============================] - 15s - loss: 0.9580 - acc: 0.5409 - val_loss: 0.9187 - val_acc: 0.4977\n",
      "Epoch 5/20\n",
      "123/123 [==============================] - 16s - loss: 0.9409 - acc: 0.5511 - val_loss: 0.9300 - val_acc: 0.5205\n",
      "Epoch 6/20\n",
      "123/123 [==============================] - 15s - loss: 0.9269 - acc: 0.5692 - val_loss: 0.9233 - val_acc: 0.5571\n",
      "Epoch 7/20\n",
      "123/123 [==============================] - 15s - loss: 0.9309 - acc: 0.5670 - val_loss: 0.9224 - val_acc: 0.5068\n",
      "Epoch 8/20\n",
      "123/123 [==============================] - 15s - loss: 0.9185 - acc: 0.5702 - val_loss: 0.9163 - val_acc: 0.5297\n",
      "Epoch 9/20\n",
      "123/123 [==============================] - 16s - loss: 0.9116 - acc: 0.5815 - val_loss: 0.9131 - val_acc: 0.5160\n",
      "Epoch 10/20\n",
      "123/123 [==============================] - 16s - loss: 0.9098 - acc: 0.5856 - val_loss: 0.9193 - val_acc: 0.5434\n",
      "Epoch 11/20\n",
      "123/123 [==============================] - 16s - loss: 0.8892 - acc: 0.5986 - val_loss: 0.9155 - val_acc: 0.5479\n",
      "Epoch 12/20\n",
      "123/123 [==============================] - 16s - loss: 0.8767 - acc: 0.6048 - val_loss: 0.9068 - val_acc: 0.5571\n",
      "Epoch 13/20\n",
      "123/123 [==============================] - 14s - loss: 0.8834 - acc: 0.5950 - val_loss: 0.8858 - val_acc: 0.5479\n",
      "Epoch 14/20\n",
      "123/123 [==============================] - 14s - loss: 0.8733 - acc: 0.6108 - val_loss: 0.8881 - val_acc: 0.5525\n",
      "Epoch 15/20\n",
      "123/123 [==============================] - 15s - loss: 0.8634 - acc: 0.6124 - val_loss: 0.8792 - val_acc: 0.5479\n",
      "Epoch 16/20\n",
      "123/123 [==============================] - 14s - loss: 0.8523 - acc: 0.6248 - val_loss: 0.8809 - val_acc: 0.5571\n",
      "Epoch 17/20\n",
      "123/123 [==============================] - 14s - loss: 0.8689 - acc: 0.6103 - val_loss: 0.8816 - val_acc: 0.5616\n",
      "Epoch 18/20\n",
      "123/123 [==============================] - 14s - loss: 0.8554 - acc: 0.6071 - val_loss: 0.8926 - val_acc: 0.5571\n",
      "Epoch 19/20\n",
      "123/123 [==============================] - 14s - loss: 0.8429 - acc: 0.6144 - val_loss: 0.8513 - val_acc: 0.5662\n",
      "Epoch 20/20\n",
      "123/123 [==============================] - 15s - loss: 0.8336 - acc: 0.6279 - val_loss: 0.8802 - val_acc: 0.5662\n"
     ]
    }
   ],
   "source": [
    "epochs = 20 \n",
    "batch_size = 16\n",
    "\n",
    "#fit_generator(self, generator, steps_per_epoch, epochs=1, verbose=1, callbacks=None, validation_data=None, validation_steps=None, class_weight=None, max_queue_size=10, workers=1, use_multiprocessing=False, initial_epoch=0)\n",
    "\n",
    "history = model.fit_generator(\n",
    "    datagen.flow(X_train,Y_train),\n",
    "    epochs=epochs,\n",
    "    steps_per_epoch=X_train.shape[0] // batch_size,\n",
    "    validation_data = (X_test,Y_test))"
   ]
  },
  {
   "cell_type": "code",
   "execution_count": 318,
   "metadata": {
    "scrolled": true
   },
   "outputs": [
    {
     "data": {
      "image/png": "[encoded data removed]",
      "text/plain": [
       "<matplotlib.figure.Figure at 0x1a1c88b8d0>"
      ]
     },
     "metadata": {},
     "output_type": "display_data"
    }
   ],
   "source": [
    "# Plot the loss and accuracy curves for training and validation \n",
    "fig, ax = plt.subplots(2,1)\n",
    "ax[0].plot(history.history['loss'], color='b', label=\"Training loss\")\n",
    "ax[0].plot(history.history['val_loss'], color='r', label=\"validation loss\",axes =ax[0])\n",
    "legend = ax[0].legend(loc='best', shadow=True)\n",
    "\n",
    "ax[1].plot(history.history['acc'], color='b', label=\"Training accuracy\")\n",
    "ax[1].plot(history.history['val_acc'], color='r',label=\"Validation accuracy\")\n",
    "legend = ax[1].legend(loc='best', shadow=True)"
   ]
  },
  {
   "cell_type": "code",
   "execution_count": 324,
   "metadata": {},
   "outputs": [
    {
     "name": "stdout",
     "output_type": "stream",
     "text": [
      "1956/1969 [============================>.] - ETA: 0s"
     ]
    },
    {
     "data": {
      "text/plain": [
       "[0.79609333510747593, 0.65159979685119351]"
      ]
     },
     "execution_count": 324,
     "metadata": {},
     "output_type": "execute_result"
    }
   ],
   "source": [
    "model.evaluate(X_train,Y_train, batch_size=2)"
   ]
  },
  {
   "cell_type": "code",
   "execution_count": 319,
   "metadata": {},
   "outputs": [
    {
     "data": {
      "image/png": "[encoded data removed]",
      "text/plain": [
       "<matplotlib.figure.Figure at 0x1a1c902550>"
      ]
     },
     "metadata": {},
     "output_type": "display_data"
    }
   ],
   "source": [
    "import itertools\n",
    "def plot_confusion_matrix(cm, classes,\n",
    "                          normalize=False,\n",
    "                          title='Confusion matrix',\n",
    "                          cmap=plt.cm.Greens):\n",
    "    \n",
    "    plt.imshow(cm, interpolation='nearest', cmap=cmap)\n",
    "    plt.title(title)\n",
    "    plt.colorbar()\n",
    "    tick_marks = np.arange(len(classes))\n",
    "    plt.xticks(tick_marks, classes, rotation=45)\n",
    "    plt.yticks(tick_marks, classes)\n",
    "\n",
    "    if normalize:\n",
    "        cm = cm.astype('float') / cm.sum(axis=1)[:, np.newaxis]\n",
    "\n",
    "    thresh = cm.max() / 2.\n",
    "    for i, j in itertools.product(range(cm.shape[0]), range(cm.shape[1])):\n",
    "        plt.text(j, i, cm[i, j],\n",
    "                 horizontalalignment=\"center\",\n",
    "                 color=\"white\" if cm[i, j] > thresh else \"black\")\n",
    "\n",
    "    plt.tight_layout()\n",
    "    plt.ylabel('True label')\n",
    "    plt.xlabel('Predicted label')\n",
    "\n",
    "Y_pred = model.predict(X_test)\n",
    "Y_pred_classes = np.argmax(Y_pred,axis = 1) \n",
    "Y_true = np.argmax(Y_test,axis = 1) \n",
    "confusion_mtx = confusion_matrix(Y_true, Y_pred_classes) \n",
    "plot_confusion_matrix(confusion_mtx, classes = range(3)) "
   ]
  },
  {
   "cell_type": "code",
   "execution_count": 325,
   "metadata": {},
   "outputs": [
    {
     "name": "stdout",
     "output_type": "stream",
     "text": [
      "210/219 [===========================>..] - ETA: 0s"
     ]
    },
    {
     "data": {
      "text/plain": [
       "[0.88018160500482878, 0.56621004566210043]"
      ]
     },
     "execution_count": 325,
     "metadata": {},
     "output_type": "execute_result"
    }
   ],
   "source": [
    "model.evaluate(X_test,Y_test, batch_size=2)"
   ]
  },
  {
   "cell_type": "code",
   "execution_count": 326,
   "metadata": {},
   "outputs": [
    {
     "name": "stdout",
     "output_type": "stream",
     "text": [
      "             precision    recall  f1-score   support\n",
      "\n",
      "          0       0.65      0.65      0.65        69\n",
      "          1       0.43      0.26      0.33        76\n",
      "          2       0.57      0.80      0.66        74\n",
      "\n",
      "avg / total       0.55      0.57      0.54       219\n",
      "\n"
     ]
    }
   ],
   "source": [
    "print(classification_report(Y_true, Y_pred_classes))"
   ]
  },
  {
   "cell_type": "markdown",
   "metadata": {},
   "source": [
    "### Validation Data"
   ]
  },
  {
   "cell_type": "code",
   "execution_count": 328,
   "metadata": {
    "collapsed": true
   },
   "outputs": [],
   "source": [
    "encoder = LabelEncoder()\n",
    "encoder.fit(labels_val)\n",
    "labels_val = encoder.transform(labels_val)\n",
    "\n",
    "Y_val = to_categorical(labels_val, num_classes=3)"
   ]
  },
  {
   "cell_type": "code",
   "execution_count": 329,
   "metadata": {},
   "outputs": [
    {
     "data": {
      "text/plain": [
       "148"
      ]
     },
     "execution_count": 329,
     "metadata": {},
     "output_type": "execute_result"
    }
   ],
   "source": [
    "len(Y_val)"
   ]
  },
  {
   "cell_type": "code",
   "execution_count": 330,
   "metadata": {
    "collapsed": true
   },
   "outputs": [],
   "source": [
    "x_val = x_val/255.0"
   ]
  },
  {
   "cell_type": "code",
   "execution_count": 331,
   "metadata": {},
   "outputs": [
    {
     "data": {
      "text/plain": [
       "148"
      ]
     },
     "execution_count": 331,
     "metadata": {},
     "output_type": "execute_result"
    }
   ],
   "source": [
    "len(x_val)"
   ]
  },
  {
   "cell_type": "code",
   "execution_count": 332,
   "metadata": {},
   "outputs": [
    {
     "data": {
      "image/png": "[encoded data removed]",
      "text/plain": [
       "<matplotlib.figure.Figure at 0x1a1c863b38>"
      ]
     },
     "metadata": {},
     "output_type": "display_data"
    }
   ],
   "source": [
    "Y_pred_val = model.predict(x_val)\n",
    "Y_pred_classes = np.argmax(Y_pred_val,axis = 1) \n",
    "Y_true = np.argmax(Y_val,axis = 1) \n",
    "confusion_mtx = confusion_matrix(Y_true, Y_pred_classes) \n",
    "plot_confusion_matrix(confusion_mtx, classes = range(3)) "
   ]
  },
  {
   "cell_type": "code",
   "execution_count": 333,
   "metadata": {},
   "outputs": [
    {
     "name": "stdout",
     "output_type": "stream",
     "text": [
      "136/148 [==========================>...] - ETA: 0s"
     ]
    },
    {
     "data": {
      "text/plain": [
       "[0.89951013552175985, 0.54729729729729726]"
      ]
     },
     "execution_count": 333,
     "metadata": {},
     "output_type": "execute_result"
    }
   ],
   "source": [
    "model.evaluate(x_val, Y_val, batch_size=2)"
   ]
  },
  {
   "cell_type": "code",
   "execution_count": 334,
   "metadata": {},
   "outputs": [
    {
     "name": "stdout",
     "output_type": "stream",
     "text": [
      "             precision    recall  f1-score   support\n",
      "\n",
      "          0       0.45      0.80      0.58        25\n",
      "          1       0.74      0.32      0.45        78\n",
      "          2       0.51      0.80      0.63        45\n",
      "\n",
      "avg / total       0.62      0.55      0.52       148\n",
      "\n"
     ]
    }
   ],
   "source": [
    "from sklearn.metrics import classification_report\n",
    "\n",
    "print(classification_report(Y_true, Y_pred_classes))"
   ]
  },
  {
   "cell_type": "markdown",
   "metadata": {},
   "source": [
    "# Results\n",
    "\n",
    "### Network structure.\n",
    "I got the best result using 3 convolutional layers, 3 pooling layers, and 2 fully connected layers. I also include 2 \"Dropout\" to prevent overfittiong:\n",
    "\n",
    "* Conv2D(filters = 8, kernel_size = (3,3),padding = 'Same', activation ='relu', input_shape = (64,64,3))\n",
    "* MaxPool2D(pool_size=(2,2)\n",
    "\n",
    "* Conv2D(filters = 16, kernel_size = (3,3),padding = 'Same', activation ='relu')\n",
    "* model.add(MaxPool2D(pool_size=(2,2))\n",
    "\n",
    "* Conv2D(filters = 32, kernel_size = (3,3),padding = 'Same', activation ='relu')\n",
    "* MaxPool2D(pool_size=(2,2)\n",
    "\n",
    "* Dropout(0.2)\n",
    "\n",
    "* Flatten()\n",
    "* Dense(32, activation='relu')\n",
    "* Dropout(0.1)\n",
    "* Dense(3, activation = \"sigmoid\")\n",
    "\n",
    "\n",
    "\n",
    "I tried some diferent networks structure - different number of layeres (1-3), number of filters (4 - 64) and filter sizes (3*3 - 8*8), different number of nodes for fully connedted layeres. I realized that small number of fulters gives us underfitting. \n",
    "\n",
    "### The training and testing results\n",
    "During the training I used a testing set to validate the accuracly of the model. Testing and training sets have about same number of images for every type of cancer. Some of images were dublicated since I wanted to have roungly same number of images for every class. \n",
    "\n",
    "|            | loss | accuracy  \n",
    "| ------------- | ------------- |----------------\n",
    "| training  | 0.796  | 0.652 \n",
    "| testing   | 0.880  | 0.566 \n",
    "|hold out validation set | 0.899 | 0.547"
   ]
  },
  {
   "cell_type": "markdown",
   "metadata": {},
   "source": [
    "### Possible improvements \n",
    "\n",
    "1. I used Flatten() between the last convolution layer and the first fully connected layer. But when we are flattening the result from convolution, we lose spatial information. It could be great to illuminate flattening. \n",
    "\n",
    "2. Use more sophisticated image preprocessing. The images have very different shapes. Also, a lot of image have large black \"background\". It could be great to select only \"informative\" part from all images. \n",
    "\n",
    "3. Get more data, use better resolution, and add more convolutional layers! I have only 4 GB memory and I am not able to download additional training samples. Thus, I decided to use low resolution (64 by 64) and only 3 layers to prevent overfitting. "
   ]
  },
  {
   "cell_type": "markdown",
   "metadata": {},
   "source": [
    "## Conclusion\n",
    "\n",
    "CNN works well for this type of problem. It is very computational effective. When I tried to use DNN I was able to use only black/withe images and 1 hidden layer. \n",
    "\n",
    "Also, I like that CNN prevent spatial information - every kernel \"looks\" at a part of image, not just a flat array."
   ]
  },
  {
   "cell_type": "code",
   "execution_count": null,
   "metadata": {
    "collapsed": true
   },
   "outputs": [],
   "source": []
  }
 ],
 "metadata": {
  "kernelspec": {
   "display_name": "Python 3",
   "language": "python",
   "name": "python3"
  },
  "language_info": {
   "codemirror_mode": {
    "name": "ipython",
    "version": 3
   },
   "file_extension": ".py",
   "mimetype": "text/x-python",
   "name": "python",
   "nbconvert_exporter": "python",
   "pygments_lexer": "ipython3",
   "version": "3.6.2"
  }
 },
 "nbformat": 4,
 "nbformat_minor": 2
}
