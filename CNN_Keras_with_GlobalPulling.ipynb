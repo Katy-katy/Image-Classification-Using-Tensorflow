{
 "cells": [
  {
   "cell_type": "markdown",
   "metadata": {},
   "source": [
    "## My Experiments with using GlobalMaxPooling2D() instead of Flatten()"
   ]
  },
  {
   "cell_type": "markdown",
   "metadata": {},
   "source": [
    "Since we are loosing the spatial information when we are using Flatten(), I decided to try a different approach to connect the last convolutional layer with the first last layer that must have 4 nodes (we have 3 target classes).\n",
    "\n",
    "I am using the same training and validation (hold out) data sets as I used in the previous notebook. "
   ]
  },
  {
   "cell_type": "code",
   "execution_count": 34,
   "metadata": {
    "collapsed": true
   },
   "outputs": [],
   "source": [
    "import numpy as np\n",
    "import matplotlib.pyplot as plt\n",
    "%matplotlib inline\n",
    "import seaborn as sns\n",
    "import pickle\n",
    "import pandas as pd\n",
    "\n",
    "from sklearn.model_selection import train_test_split\n",
    "from sklearn.metrics import confusion_matrix\n",
    "from sklearn.preprocessing import LabelEncoder\n",
    "from sklearn.metrics import classification_report"
   ]
  },
  {
   "cell_type": "code",
   "execution_count": 72,
   "metadata": {},
   "outputs": [],
   "source": [
    "from keras.utils.np_utils import to_categorical # convert to one-hot-encoding\n",
    "from keras.models import Sequential\n",
    "from keras.layers import Dense, Dropout, Flatten, Conv2D, MaxPool2D, GlobalAveragePooling2D, GlobalMaxPooling2D\n",
    "from keras.optimizers import RMSprop\n",
    "from keras.preprocessing.image import ImageDataGenerator\n",
    "from keras.callbacks import ReduceLROnPlateau"
   ]
  },
  {
   "cell_type": "code",
   "execution_count": 3,
   "metadata": {
    "collapsed": true
   },
   "outputs": [],
   "source": [
    "with open('training_64_dublicated_data.pickle', 'rb') as fo:\n",
    "        data = pickle.load(fo, encoding='bytes')"
   ]
  },
  {
   "cell_type": "code",
   "execution_count": 4,
   "metadata": {
    "collapsed": true
   },
   "outputs": [],
   "source": [
    "with open('validation_64.pickle', 'rb') as fo:\n",
    "        validation_data = pickle.load(fo, encoding='bytes')"
   ]
  },
  {
   "cell_type": "code",
   "execution_count": 5,
   "metadata": {
    "collapsed": true
   },
   "outputs": [],
   "source": [
    "x = data[b'data']\n",
    "x = np.array(x)\n",
    "x = x.reshape(-1,64,64,3)\n",
    "\n",
    "labels = data[b'labels']"
   ]
  },
  {
   "cell_type": "code",
   "execution_count": 6,
   "metadata": {},
   "outputs": [
    {
     "data": {
      "text/plain": [
       "(2188, 64, 64, 3)"
      ]
     },
     "execution_count": 6,
     "metadata": {},
     "output_type": "execute_result"
    }
   ],
   "source": [
    "x.shape"
   ]
  },
  {
   "cell_type": "code",
   "execution_count": 7,
   "metadata": {
    "collapsed": true
   },
   "outputs": [],
   "source": [
    "labels = data[b'labels']"
   ]
  },
  {
   "cell_type": "code",
   "execution_count": 8,
   "metadata": {
    "collapsed": true
   },
   "outputs": [],
   "source": [
    "df = pd.DataFrame(data)"
   ]
  },
  {
   "cell_type": "markdown",
   "metadata": {},
   "source": [
    "### Training / testing data"
   ]
  },
  {
   "cell_type": "code",
   "execution_count": 9,
   "metadata": {},
   "outputs": [
    {
     "data": {
      "text/plain": [
       "b'Type_3'    810\n",
       "b'Type_2'    703\n",
       "b'Type_1'    675\n",
       "Name: b'labels', dtype: int64"
      ]
     },
     "execution_count": 9,
     "metadata": {},
     "output_type": "execute_result"
    },
    {
     "data": {
      "image/png": "[encoded data removed]",
      "text/plain": [
       "<matplotlib.figure.Figure at 0x1c1bc5d7f0>"
      ]
     },
     "metadata": {},
     "output_type": "display_data"
    }
   ],
   "source": [
    "g = sns.countplot(labels)\n",
    "df[b'labels'].value_counts()"
   ]
  },
  {
   "cell_type": "markdown",
   "metadata": {},
   "source": [
    "Our classes are balanced now."
   ]
  },
  {
   "cell_type": "code",
   "execution_count": 10,
   "metadata": {},
   "outputs": [
    {
     "data": {
      "text/plain": [
       "(148, 64, 64, 3)"
      ]
     },
     "execution_count": 10,
     "metadata": {},
     "output_type": "execute_result"
    }
   ],
   "source": [
    "x_val = validation_data[b'data']\n",
    "x_val = np.array(x_val)\n",
    "x_val = x_val.reshape(-1,64,64,3)\n",
    "\n",
    "labels_val = validation_data[b'labels']\n",
    "x_val.shape"
   ]
  },
  {
   "cell_type": "code",
   "execution_count": 11,
   "metadata": {
    "collapsed": true
   },
   "outputs": [],
   "source": [
    "df_val = pd.DataFrame(validation_data)"
   ]
  },
  {
   "cell_type": "markdown",
   "metadata": {},
   "source": [
    "### Validation Data"
   ]
  },
  {
   "cell_type": "code",
   "execution_count": 12,
   "metadata": {},
   "outputs": [
    {
     "data": {
      "text/plain": [
       "b'Type_2'    78\n",
       "b'Type_3'    45\n",
       "b'Type_1'    25\n",
       "Name: b'labels', dtype: int64"
      ]
     },
     "execution_count": 12,
     "metadata": {},
     "output_type": "execute_result"
    },
    {
     "data": {
      "image/png": "[encoded data removed]",
      "text/plain": [
       "<matplotlib.figure.Figure at 0x1c1bc5dd30>"
      ]
     },
     "metadata": {},
     "output_type": "display_data"
    }
   ],
   "source": [
    "g = sns.countplot(labels_val)\n",
    "df_val[b'labels'].value_counts()"
   ]
  },
  {
   "cell_type": "markdown",
   "metadata": {},
   "source": [
    "Our validation set has the same proportion of the images to differen type as all original data. "
   ]
  },
  {
   "cell_type": "markdown",
   "metadata": {},
   "source": [
    "### Training Preparation"
   ]
  },
  {
   "cell_type": "code",
   "execution_count": 13,
   "metadata": {
    "collapsed": true
   },
   "outputs": [],
   "source": [
    "encoder = LabelEncoder()\n",
    "encoder.fit(labels)\n",
    "labels = encoder.transform(labels)"
   ]
  },
  {
   "cell_type": "markdown",
   "metadata": {},
   "source": [
    "Type_1 is \"0\", Type_2 is \"1\", Type_3 is \"2\""
   ]
  },
  {
   "cell_type": "code",
   "execution_count": 14,
   "metadata": {
    "collapsed": true
   },
   "outputs": [],
   "source": [
    "X_train, X_test, Y_train, Y_test = train_test_split(x, labels, test_size = 0.1, random_state=101)"
   ]
  },
  {
   "cell_type": "code",
   "execution_count": 16,
   "metadata": {
    "collapsed": true
   },
   "outputs": [],
   "source": [
    "nb_train_samples = len(X_train)\n",
    "nb_validation_samples = len(X_test)"
   ]
  },
  {
   "cell_type": "code",
   "execution_count": 17,
   "metadata": {
    "collapsed": true
   },
   "outputs": [],
   "source": [
    "# Normalize the data\n",
    "X_train = X_train / 255.0\n",
    "X_test = X_test / 255.0"
   ]
  },
  {
   "cell_type": "code",
   "execution_count": 18,
   "metadata": {},
   "outputs": [
    {
     "data": {
      "text/plain": [
       "(1969, 64, 64, 3)"
      ]
     },
     "execution_count": 18,
     "metadata": {},
     "output_type": "execute_result"
    }
   ],
   "source": [
    "X_train.shape"
   ]
  },
  {
   "cell_type": "code",
   "execution_count": 19,
   "metadata": {},
   "outputs": [
    {
     "data": {
      "text/plain": [
       "(219, 64, 64, 3)"
      ]
     },
     "execution_count": 19,
     "metadata": {},
     "output_type": "execute_result"
    }
   ],
   "source": [
    "X_test.shape"
   ]
  },
  {
   "cell_type": "code",
   "execution_count": 20,
   "metadata": {
    "collapsed": true
   },
   "outputs": [],
   "source": [
    "Y_train = to_categorical(Y_train,num_classes=3)\n",
    "Y_test = to_categorical(Y_test, num_classes=3)"
   ]
  },
  {
   "cell_type": "markdown",
   "metadata": {},
   "source": [
    "## Model  "
   ]
  },
  {
   "cell_type": "code",
   "execution_count": 116,
   "metadata": {},
   "outputs": [],
   "source": [
    "model = Sequential()\n",
    "\n",
    "model.add(Conv2D(filters = 8, kernel_size = (3,3),padding = 'Same', \n",
    "                 activation ='relu', input_shape = (64,64,3)))\n",
    "model.add(MaxPool2D(pool_size=(2,2)))\n",
    "\n",
    "model.add(Conv2D(filters = 16, kernel_size = (3,3),padding = 'Same', \n",
    "                 activation ='relu'))\n",
    "model.add(MaxPool2D(pool_size=(2,2)))\n",
    "\n",
    "model.add(Dropout(0.2))\n",
    "\n",
    "model.add(Conv2D(filters = 32, kernel_size = (3,3),padding = 'Same', \n",
    "                 activation ='relu'))\n",
    "#model.add(MaxPool2D(pool_size=(2,2)))\n",
    "model.add(Conv2D(256, (1,1)))\n",
    "model.add(GlobalMaxPooling2D())\n",
    "\n",
    "model.add(Dropout(0.2))\n",
    "\n",
    "\n",
    "#model.add(Flatten())\n",
    "model.add(Dense(32, activation='relu'))\n",
    "model.add(Dropout(0.1))\n",
    "model.add(Dense(3, activation = \"sigmoid\"))"
   ]
  },
  {
   "cell_type": "code",
   "execution_count": 117,
   "metadata": {
    "collapsed": true
   },
   "outputs": [],
   "source": [
    "model.compile(loss='categorical_crossentropy',\n",
    "              optimizer='rmsprop',\n",
    "              metrics=['accuracy'])"
   ]
  },
  {
   "cell_type": "code",
   "execution_count": 118,
   "metadata": {},
   "outputs": [
    {
     "name": "stdout",
     "output_type": "stream",
     "text": [
      "_________________________________________________________________\n",
      "Layer (type)                 Output Shape              Param #   \n",
      "=================================================================\n",
      "conv2d_46 (Conv2D)           (None, 64, 64, 8)         224       \n",
      "_________________________________________________________________\n",
      "max_pooling2d_27 (MaxPooling (None, 32, 32, 8)         0         \n",
      "_________________________________________________________________\n",
      "conv2d_47 (Conv2D)           (None, 32, 32, 16)        1168      \n",
      "_________________________________________________________________\n",
      "max_pooling2d_28 (MaxPooling (None, 16, 16, 16)        0         \n",
      "_________________________________________________________________\n",
      "dropout_27 (Dropout)         (None, 16, 16, 16)        0         \n",
      "_________________________________________________________________\n",
      "conv2d_48 (Conv2D)           (None, 16, 16, 32)        4640      \n",
      "_________________________________________________________________\n",
      "conv2d_49 (Conv2D)           (None, 16, 16, 256)       8448      \n",
      "_________________________________________________________________\n",
      "global_max_pooling2d_6 (Glob (None, 256)               0         \n",
      "_________________________________________________________________\n",
      "dropout_28 (Dropout)         (None, 256)               0         \n",
      "_________________________________________________________________\n",
      "dense_24 (Dense)             (None, 32)                8224      \n",
      "_________________________________________________________________\n",
      "dropout_29 (Dropout)         (None, 32)                0         \n",
      "_________________________________________________________________\n",
      "dense_25 (Dense)             (None, 3)                 99        \n",
      "=================================================================\n",
      "Total params: 22,803\n",
      "Trainable params: 22,803\n",
      "Non-trainable params: 0\n",
      "_________________________________________________________________\n"
     ]
    }
   ],
   "source": [
    "model.summary()"
   ]
  },
  {
   "cell_type": "code",
   "execution_count": 27,
   "metadata": {
    "collapsed": true
   },
   "outputs": [],
   "source": [
    "datagen = ImageDataGenerator(rotation_range=45,width_shift_range=0.1,height_shift_range=0.1,\n",
    "                             zoom_range=0.3, horizontal_flip=True)\n",
    "datagen.fit(X_train)"
   ]
  },
  {
   "cell_type": "code",
   "execution_count": 119,
   "metadata": {},
   "outputs": [
    {
     "name": "stdout",
     "output_type": "stream",
     "text": [
      "Epoch 1/20\n",
      "123/123 [==============================] - 45s - loss: 1.0960 - acc: 0.3730 - val_loss: 1.0974 - val_acc: 0.3379\n",
      "Epoch 2/20\n",
      "123/123 [==============================] - 44s - loss: 1.0938 - acc: 0.3736 - val_loss: 1.0931 - val_acc: 0.3927\n",
      "Epoch 3/20\n",
      "123/123 [==============================] - 41s - loss: 1.0890 - acc: 0.3857 - val_loss: 1.0893 - val_acc: 0.3836\n",
      "Epoch 4/20\n",
      "123/123 [==============================] - 42s - loss: 1.0856 - acc: 0.3829 - val_loss: 1.0837 - val_acc: 0.3927\n",
      "Epoch 5/20\n",
      "123/123 [==============================] - 48s - loss: 1.0818 - acc: 0.3968 - val_loss: 1.0774 - val_acc: 0.3881\n",
      "Epoch 6/20\n",
      "123/123 [==============================] - 45s - loss: 1.0794 - acc: 0.4006 - val_loss: 1.0812 - val_acc: 0.3973\n",
      "Epoch 7/20\n",
      "123/123 [==============================] - 46s - loss: 1.0789 - acc: 0.3873 - val_loss: 1.0694 - val_acc: 0.3927\n",
      "Epoch 8/20\n",
      "123/123 [==============================] - 44s - loss: 1.0731 - acc: 0.4037 - val_loss: 1.0639 - val_acc: 0.3881\n",
      "Epoch 9/20\n",
      "123/123 [==============================] - 43s - loss: 1.0745 - acc: 0.3944 - val_loss: 1.0696 - val_acc: 0.3653\n",
      "Epoch 10/20\n",
      "123/123 [==============================] - 42s - loss: 1.0742 - acc: 0.3951 - val_loss: 1.0569 - val_acc: 0.4201\n",
      "Epoch 11/20\n",
      "123/123 [==============================] - 42s - loss: 1.0450 - acc: 0.4658 - val_loss: 1.0016 - val_acc: 0.4658\n",
      "Epoch 12/20\n",
      "123/123 [==============================] - 41s - loss: 0.9946 - acc: 0.5246 - val_loss: 0.9491 - val_acc: 0.5342\n",
      "Epoch 13/20\n",
      "123/123 [==============================] - 41s - loss: 0.9679 - acc: 0.5328 - val_loss: 0.9261 - val_acc: 0.5251\n",
      "Epoch 14/20\n",
      "123/123 [==============================] - 39s - loss: 0.9492 - acc: 0.5474 - val_loss: 0.9331 - val_acc: 0.5297\n",
      "Epoch 15/20\n",
      "123/123 [==============================] - 39s - loss: 0.9394 - acc: 0.5528 - val_loss: 0.9318 - val_acc: 0.5434\n",
      "Epoch 16/20\n",
      "123/123 [==============================] - 42s - loss: 0.9326 - acc: 0.5581 - val_loss: 0.9561 - val_acc: 0.5160\n",
      "Epoch 17/20\n",
      "123/123 [==============================] - 38s - loss: 0.9289 - acc: 0.5696 - val_loss: 0.9359 - val_acc: 0.5251\n",
      "Epoch 18/20\n",
      "123/123 [==============================] - 38s - loss: 0.9193 - acc: 0.5701 - val_loss: 0.9306 - val_acc: 0.5251\n",
      "Epoch 19/20\n",
      "123/123 [==============================] - 42s - loss: 0.9186 - acc: 0.5738 - val_loss: 0.9217 - val_acc: 0.5388\n",
      "Epoch 20/20\n",
      "123/123 [==============================] - 39s - loss: 0.9011 - acc: 0.5839 - val_loss: 0.9096 - val_acc: 0.5662\n"
     ]
    }
   ],
   "source": [
    "epochs = 20 # I tried more epachs, but we have overfitting after about 20 epochs\n",
    "batch_size = 16\n",
    "\n",
    "#fit_generator(self, generator, steps_per_epoch, epochs=1, verbose=1, callbacks=None, validation_data=None, validation_steps=None, class_weight=None, max_queue_size=10, workers=1, use_multiprocessing=False, initial_epoch=0)\n",
    "\n",
    "history = model.fit_generator(\n",
    "    datagen.flow(X_train,Y_train),\n",
    "    epochs=epochs,\n",
    "    steps_per_epoch=X_train.shape[0] // batch_size,\n",
    "    validation_data = (X_test,Y_test))"
   ]
  },
  {
   "cell_type": "code",
   "execution_count": 120,
   "metadata": {
    "scrolled": true
   },
   "outputs": [
    {
     "data": {
      "image/png": "[encoded data removed]",
      "text/plain": [
       "<matplotlib.figure.Figure at 0x1c386261d0>"
      ]
     },
     "metadata": {},
     "output_type": "display_data"
    }
   ],
   "source": [
    "# Plot the loss and accuracy curves for training and validation \n",
    "fig, ax = plt.subplots(2,1)\n",
    "ax[0].plot(history.history['loss'], color='b', label=\"Training loss\")\n",
    "ax[0].plot(history.history['val_loss'], color='r', label=\"validation loss\",axes =ax[0])\n",
    "legend = ax[0].legend(loc='best', shadow=True)\n",
    "\n",
    "ax[1].plot(history.history['acc'], color='b', label=\"Training accuracy\")\n",
    "ax[1].plot(history.history['val_acc'], color='r',label=\"Validation accuracy\")\n",
    "legend = ax[1].legend(loc='best', shadow=True)"
   ]
  },
  {
   "cell_type": "code",
   "execution_count": 121,
   "metadata": {},
   "outputs": [
    {
     "name": "stdout",
     "output_type": "stream",
     "text": [
      "1964/1969 [============================>.] - ETA: 0s"
     ]
    },
    {
     "data": {
      "text/plain": [
       "[0.86058874612171798, 0.60538344337227024]"
      ]
     },
     "execution_count": 121,
     "metadata": {},
     "output_type": "execute_result"
    }
   ],
   "source": [
    "model.evaluate(X_train,Y_train, batch_size=2)"
   ]
  },
  {
   "cell_type": "code",
   "execution_count": 122,
   "metadata": {},
   "outputs": [
    {
     "data": {
      "image/png": "[encoded data removed]",
      "text/plain": [
       "<matplotlib.figure.Figure at 0x1c37ea2dd8>"
      ]
     },
     "metadata": {},
     "output_type": "display_data"
    }
   ],
   "source": [
    "import itertools\n",
    "def plot_confusion_matrix(cm, classes,\n",
    "                          normalize=False,\n",
    "                          title='Confusion matrix',\n",
    "                          cmap=plt.cm.Greens):\n",
    "    \n",
    "    plt.imshow(cm, interpolation='nearest', cmap=cmap)\n",
    "    plt.title(title)\n",
    "    plt.colorbar()\n",
    "    tick_marks = np.arange(len(classes))\n",
    "    plt.xticks(tick_marks, classes, rotation=45)\n",
    "    plt.yticks(tick_marks, classes)\n",
    "\n",
    "    if normalize:\n",
    "        cm = cm.astype('float') / cm.sum(axis=1)[:, np.newaxis]\n",
    "\n",
    "    thresh = cm.max() / 2.\n",
    "    for i, j in itertools.product(range(cm.shape[0]), range(cm.shape[1])):\n",
    "        plt.text(j, i, cm[i, j],\n",
    "                 horizontalalignment=\"center\",\n",
    "                 color=\"white\" if cm[i, j] > thresh else \"black\")\n",
    "\n",
    "    plt.tight_layout()\n",
    "    plt.ylabel('True label')\n",
    "    plt.xlabel('Predicted label')\n",
    "\n",
    "Y_pred = model.predict(X_test)\n",
    "Y_pred_classes = np.argmax(Y_pred,axis = 1) \n",
    "Y_true = np.argmax(Y_test,axis = 1) \n",
    "confusion_mtx = confusion_matrix(Y_true, Y_pred_classes) \n",
    "plot_confusion_matrix(confusion_mtx, classes = range(3)) "
   ]
  },
  {
   "cell_type": "code",
   "execution_count": 123,
   "metadata": {},
   "outputs": [
    {
     "name": "stdout",
     "output_type": "stream",
     "text": [
      "212/219 [============================>.] - ETA: 0s"
     ]
    },
    {
     "data": {
      "text/plain": [
       "[0.90961527422955046, 0.56621004566210043]"
      ]
     },
     "execution_count": 123,
     "metadata": {},
     "output_type": "execute_result"
    }
   ],
   "source": [
    "model.evaluate(X_test,Y_test, batch_size=2)"
   ]
  },
  {
   "cell_type": "code",
   "execution_count": 124,
   "metadata": {},
   "outputs": [
    {
     "name": "stdout",
     "output_type": "stream",
     "text": [
      "             precision    recall  f1-score   support\n",
      "\n",
      "          0       0.61      0.70      0.65        69\n",
      "          1       0.45      0.17      0.25        76\n",
      "          2       0.57      0.85      0.68        74\n",
      "\n",
      "avg / total       0.54      0.57      0.52       219\n",
      "\n"
     ]
    }
   ],
   "source": [
    "print(classification_report(Y_true, Y_pred_classes))"
   ]
  },
  {
   "cell_type": "markdown",
   "metadata": {},
   "source": [
    "### Validation Data"
   ]
  },
  {
   "cell_type": "code",
   "execution_count": 36,
   "metadata": {
    "collapsed": true
   },
   "outputs": [],
   "source": [
    "encoder = LabelEncoder()\n",
    "encoder.fit(labels_val)\n",
    "labels_val = encoder.transform(labels_val)\n",
    "\n",
    "Y_val = to_categorical(labels_val, num_classes=3)"
   ]
  },
  {
   "cell_type": "code",
   "execution_count": 37,
   "metadata": {},
   "outputs": [
    {
     "data": {
      "text/plain": [
       "148"
      ]
     },
     "execution_count": 37,
     "metadata": {},
     "output_type": "execute_result"
    }
   ],
   "source": [
    "len(Y_val)"
   ]
  },
  {
   "cell_type": "code",
   "execution_count": 38,
   "metadata": {
    "collapsed": true
   },
   "outputs": [],
   "source": [
    "x_val = x_val/255.0"
   ]
  },
  {
   "cell_type": "code",
   "execution_count": 39,
   "metadata": {},
   "outputs": [
    {
     "data": {
      "text/plain": [
       "148"
      ]
     },
     "execution_count": 39,
     "metadata": {},
     "output_type": "execute_result"
    }
   ],
   "source": [
    "len(x_val)"
   ]
  },
  {
   "cell_type": "code",
   "execution_count": 125,
   "metadata": {},
   "outputs": [
    {
     "data": {
      "image/png": "[encoded data removed]",
      "text/plain": [
       "<matplotlib.figure.Figure at 0x1c3703bb38>"
      ]
     },
     "metadata": {},
     "output_type": "display_data"
    }
   ],
   "source": [
    "Y_pred_val = model.predict(x_val)\n",
    "Y_pred_classes = np.argmax(Y_pred_val,axis = 1) \n",
    "Y_true = np.argmax(Y_val,axis = 1) \n",
    "confusion_mtx = confusion_matrix(Y_true, Y_pred_classes) \n",
    "plot_confusion_matrix(confusion_mtx, classes = range(3)) "
   ]
  },
  {
   "cell_type": "code",
   "execution_count": 126,
   "metadata": {},
   "outputs": [
    {
     "name": "stdout",
     "output_type": "stream",
     "text": [
      "138/148 [==========================>...] - ETA: 0s"
     ]
    },
    {
     "data": {
      "text/plain": [
       "[1.0087256886669107, 0.43243243243243246]"
      ]
     },
     "execution_count": 126,
     "metadata": {},
     "output_type": "execute_result"
    }
   ],
   "source": [
    "model.evaluate(x_val, Y_val, batch_size=2)"
   ]
  },
  {
   "cell_type": "code",
   "execution_count": 115,
   "metadata": {},
   "outputs": [
    {
     "name": "stdout",
     "output_type": "stream",
     "text": [
      "             precision    recall  f1-score   support\n",
      "\n",
      "          0       0.41      0.56      0.47        25\n",
      "          1       0.59      0.33      0.43        78\n",
      "          2       0.49      0.76      0.59        45\n",
      "\n",
      "avg / total       0.53      0.50      0.48       148\n",
      "\n"
     ]
    }
   ],
   "source": [
    "from sklearn.metrics import classification_report\n",
    "\n",
    "print(classification_report(Y_true, Y_pred_classes))"
   ]
  },
  {
   "cell_type": "markdown",
   "metadata": {},
   "source": [
    "# Results\n",
    "\n",
    "### Network structure.\n",
    "The model is the almost the same as I used with Flatten(), but I replace last pooling and  Flatten() by Conv2D(256, (1,1)) and GlobalMaxPooling2D(). \n",
    "\n",
    "Flatten() just create a flatt array form the previos layer, but GlobalMaxPooling2D() takes the maximum value form every filter on previouse layer. In my case in returns 256 values.\n",
    "\n",
    "Now my model is:\n",
    "\n",
    "* Conv2D(filters = 8, kernel_size = (3,3),padding = 'Same', activation ='relu', input_shape = (64,64,3))\n",
    "* MaxPool2D(pool_size=(2,2))\n",
    "\n",
    "* Conv2D(filters = 16, kernel_size = (3,3),padding = 'Same', activation ='relu')\n",
    "* MaxPool2D(pool_size=(2,2))\n",
    "\n",
    "* Dropout(0.2)\n",
    "\n",
    "* Conv2D(filters = 32, kernel_size = (3,3),padding = 'Same', activation ='relu')\n",
    "* MaxPool2D(pool_size=(2,2))\n",
    "\n",
    "* **Conv2D(256, (1,1))**\n",
    "* **GlobalMaxPooling2D()**\n",
    "\n",
    "* Dropout(0.2)\n",
    "\n",
    "* Dense(32, activation='relu')\n",
    "* model.add(Dropout(0.1)\n",
    "* Dense(3, activation = \"sigmoid\")\n",
    "\n",
    "\n",
    "The result is not better than when I used Faltten(), but I think it is because I have very few data. It looks like that using GlobalMaxPooling2D() instead of Flatten() gives us the overfitting. \n",
    "\n",
    "### The training and testing results\n",
    "During the training I used a testing set to validate the accuracy of the model. Testing and training sets have about same number of images for every type of cancer. Some of images were duplicated since I wanted to have roundly same number of images for every class.  \n",
    "\n",
    "|            | loss with Flatten() | accuracy with Flatten() | loss with GlobalMaxPooling2D() | accuracy with GlobalMaxPooling2D()  \n",
    "| ------------- | ------------- |----------------\n",
    "| training  | 0.796  | 0.652 |0.861 | 0.606\n",
    "| testing   | 0.880  | 0.566 | 0.909 | 0.566\n",
    "|hold out validation set | 0.899 | 0.547 | 1.008 | 0.432"
   ]
  },
  {
   "cell_type": "markdown",
   "metadata": {},
   "source": [
    "### Possible improvements \n",
    "\n",
    "1. Use more sophisticated image preprocessing. The images have very different shapes. Also, a lot of image have large black \"background\". It could be great to select only \"informative\" part from all images. \n",
    "\n",
    "3. Get more data, use better resolution, and add more convolutional layers! I have only 4 GB memory and I am not able to download additional training samples. Thus, I decided to use low resolution (64 by 64) and only 3 layers to prevent overfitting. \n",
    "\n",
    "3. Try more different models archtecture (numbers of layers, filters, poolings)"
   ]
  },
  {
   "cell_type": "markdown",
   "metadata": {},
   "source": [
    "## Conclusion\n",
    "\n",
    "CNN works well for this type of problem. It is very computational effective. When I tried to use DNN I was able to use only black/withe images and 1 hidden layer. \n",
    "\n",
    "Also, I like that CNN prevent spatial information - every kernel \"looks\" at a part of image, not just a flat array."
   ]
  },
  {
   "cell_type": "code",
   "execution_count": null,
   "metadata": {
    "collapsed": true
   },
   "outputs": [],
   "source": []
  }
 ],
 "metadata": {
  "kernelspec": {
   "display_name": "Python 3",
   "language": "python",
   "name": "python3"
  },
  "language_info": {
   "codemirror_mode": {
    "name": "ipython",
    "version": 3
   },
   "file_extension": ".py",
   "mimetype": "text/x-python",
   "name": "python",
   "nbconvert_exporter": "python",
   "pygments_lexer": "ipython3",
   "version": "3.6.2"
  }
 },
 "nbformat": 4,
 "nbformat_minor": 2
}
